{
  "nbformat": 4,
  "nbformat_minor": 0,
  "metadata": {
    "colab": {
      "name": "OpenWeatherMAP API Project",
      "provenance": [],
      "collapsed_sections": []
    },
    "kernelspec": {
      "name": "python3",
      "display_name": "Python 3"
    }
  },
  "cells": [
    {
      "cell_type": "markdown",
      "metadata": {
        "id": "ygl4ACbU9ZHE"
      },
      "source": [
        "####**Project Description:** \n",
        "This python program finds the current weather data of the most populated cities in the United States using city names from Wikipedia and data from the OpenWeatherMap API. It visualizes how a city's latitude affects different weather properties."
      ]
    },
    {
      "cell_type": "code",
      "metadata": {
        "id": "BGPqdfM__hPL"
      },
      "source": [
        "#import required modules\n",
        "import requests, json\n",
        "from collections import defaultdict\n",
        "import pandas as pd\n",
        "import requests\n",
        "from bs4 import BeautifulSoup\n",
        "import matplotlib.pyplot as plt"
      ],
      "execution_count": 2,
      "outputs": []
    },
    {
      "cell_type": "code",
      "metadata": {
        "id": "mjvDxuM-GRpm"
      },
      "source": [
        "# Scrape a table from a webpage and store the results in a data frame.\n",
        "# Call it DF1. \n",
        "# This table must have at least 30 records.\n",
        "\n",
        "# store URL as a variable\n",
        "url = \"https://en.wikipedia.org/wiki/List_of_United_States_cities_by_population\"\n",
        "\n",
        "# Make a request to a web page\n",
        "html_content = requests.get(url)\n",
        "\n",
        "# Initialize the BeautifulSoup object\n",
        "soup = BeautifulSoup(html_content.content, \"html.parser\")\n",
        "\n",
        "# this method prints the contents of the page in a clear, easy to read format\n",
        "# print(soup.prettify())"
      ],
      "execution_count": 3,
      "outputs": []
    },
    {
      "cell_type": "code",
      "metadata": {
        "id": "2tkfT2isLxjO"
      },
      "source": [
        "# Gathering data for DF1\n",
        "\n",
        "# find_all method looks through a tag’s descendants and retrieves all descendants that match filters\n",
        "all_tables=soup.find_all(\"table\")\n",
        "\n",
        "right_table=soup.find('table', class_='wikitable sortable')\n",
        "\n",
        "# Creating empty list for each column\n",
        "L1 = []\n",
        "city_name = []\n",
        "L4 = []\n",
        "L7 = []\n",
        "L11 = []\n",
        "Latitude = []\n",
        "Longitude = []\n",
        "\n",
        "# the findAll method -> findAll(name, attrs, recursive, string, **keywords)\n",
        "right_table.findAll('tr')\n",
        "\n",
        "# 35 records\n",
        "for row in right_table.findAll('tr')[0:36]: #create limit to avoid exceeding config variable\n",
        "\n",
        "  cells=row.findAll('td')\n",
        "\n",
        "  #get text\n",
        "  if len(cells)==11:\n",
        "    # city number\n",
        "    L1.append(cells[0].find(text=True).rstrip(\"\\n\")) \n",
        "    # city name\n",
        "    city_name.append(cells[1].find('a').get_text().rstrip(\"\\n\"))\n",
        "    # population estimate for 2019\n",
        "    L4.append(cells[3].find(text=True).rstrip(\"\\n\"))\n",
        "    # Land Area in sq mi - Removing \"sq mi\" after value\n",
        "    L7.append(cells[6].find(text=True).rstrip(\"\\n\")[:len(cells[6])-6])\n",
        "\n",
        "# This contains latitude and longitude data \n",
        "Location = list(soup.find_all('span', {'class': 'geo'}))\n",
        "# Appending latitude and longitude data\n",
        "count = 0\n",
        "for i in Location:\n",
        "  locate = i.get_text()\n",
        "  Latitude.append(locate.split(\";\")[0]) \n",
        "  Longitude.append(locate.split(\";\")[1])\n",
        "  count += 1\n",
        "  if count == 35:\n",
        "    break\n",
        "\n",
        "# creating a dataframe as DF1, containing city names, population, land area in sq mi, latitude, and longitude data\n",
        "DF1=pd.DataFrame()\n",
        "DF1['Rank'] = L1\n",
        "DF1['City_name'] = city_name\n",
        "DF1['2019_Population'] = L4\n",
        "DF1['2016_Land_Area_sq_mi'] = L7\n",
        "DF1['Latitude'] = Latitude\n",
        "DF1['Longitude'] = Longitude\n",
        "\n",
        "# remove comma from value\n",
        "DF1['2019_Population'] = DF1['2019_Population'].str.replace(',', '')\n",
        "DF1['2016_Land_Area_sq_mi'] = DF1['2016_Land_Area_sq_mi'].str.replace(',', '')\n",
        "\n",
        "# Convert to float\n",
        "DF1['Latitude'] = DF1['Latitude'].astype(float)\n",
        "DF1['Longitude'] = DF1['Longitude'].astype(float)\n",
        "\n",
        "# Rounding latitude and longitude data\n",
        "decimals = 2    \n",
        "DF1['Latitude'] = DF1['Latitude'].apply(lambda x: round(x, decimals))\n",
        "DF1['Longitude'] = DF1['Longitude'].apply(lambda x: round(x, decimals))"
      ],
      "execution_count": 4,
      "outputs": []
    },
    {
      "cell_type": "code",
      "metadata": {
        "colab": {
          "base_uri": "https://localhost:8080/",
          "height": 203
        },
        "id": "CH46jnei4N-F",
        "outputId": "db2ae969-173b-48bb-a78b-9ceef5e6962f"
      },
      "source": [
        "# Print first data frame containing city names, population, land area in sq mi, latitude, and longitude data\n",
        "DF1.head()"
      ],
      "execution_count": 5,
      "outputs": [
        {
          "output_type": "execute_result",
          "data": {
            "text/html": [
              "<div>\n",
              "<style scoped>\n",
              "    .dataframe tbody tr th:only-of-type {\n",
              "        vertical-align: middle;\n",
              "    }\n",
              "\n",
              "    .dataframe tbody tr th {\n",
              "        vertical-align: top;\n",
              "    }\n",
              "\n",
              "    .dataframe thead th {\n",
              "        text-align: right;\n",
              "    }\n",
              "</style>\n",
              "<table border=\"1\" class=\"dataframe\">\n",
              "  <thead>\n",
              "    <tr style=\"text-align: right;\">\n",
              "      <th></th>\n",
              "      <th>Rank</th>\n",
              "      <th>City_name</th>\n",
              "      <th>2019_Population</th>\n",
              "      <th>2016_Land_Area_sq_mi</th>\n",
              "      <th>Latitude</th>\n",
              "      <th>Longitude</th>\n",
              "    </tr>\n",
              "  </thead>\n",
              "  <tbody>\n",
              "    <tr>\n",
              "      <th>0</th>\n",
              "      <td>1</td>\n",
              "      <td>New York City</td>\n",
              "      <td>8253213</td>\n",
              "      <td>301.5</td>\n",
              "      <td>40.66</td>\n",
              "      <td>-73.93</td>\n",
              "    </tr>\n",
              "    <tr>\n",
              "      <th>1</th>\n",
              "      <td>2</td>\n",
              "      <td>Los Angeles</td>\n",
              "      <td>3970219</td>\n",
              "      <td>468.7</td>\n",
              "      <td>34.01</td>\n",
              "      <td>-118.41</td>\n",
              "    </tr>\n",
              "    <tr>\n",
              "      <th>2</th>\n",
              "      <td>3</td>\n",
              "      <td>Chicago</td>\n",
              "      <td>2677643</td>\n",
              "      <td>227.3</td>\n",
              "      <td>41.83</td>\n",
              "      <td>-87.68</td>\n",
              "    </tr>\n",
              "    <tr>\n",
              "      <th>3</th>\n",
              "      <td>4</td>\n",
              "      <td>Houston</td>\n",
              "      <td>2316120</td>\n",
              "      <td>637.5</td>\n",
              "      <td>29.78</td>\n",
              "      <td>-95.39</td>\n",
              "    </tr>\n",
              "    <tr>\n",
              "      <th>4</th>\n",
              "      <td>5</td>\n",
              "      <td>Phoenix</td>\n",
              "      <td>1708127</td>\n",
              "      <td>517.6</td>\n",
              "      <td>33.57</td>\n",
              "      <td>-112.09</td>\n",
              "    </tr>\n",
              "  </tbody>\n",
              "</table>\n",
              "</div>"
            ],
            "text/plain": [
              "  Rank      City_name 2019_Population 2016_Land_Area_sq_mi  Latitude  Longitude\n",
              "0    1  New York City         8253213               301.5      40.66     -73.93\n",
              "1    2    Los Angeles         3970219               468.7      34.01    -118.41\n",
              "2    3        Chicago         2677643               227.3      41.83     -87.68\n",
              "3    4        Houston         2316120               637.5      29.78     -95.39\n",
              "4    5        Phoenix         1708127               517.6      33.57    -112.09"
            ]
          },
          "metadata": {
            "tags": []
          },
          "execution_count": 5
        }
      ]
    },
    {
      "cell_type": "code",
      "metadata": {
        "id": "IAxSiBTttO8o"
      },
      "source": [
        "#enter api key for OpenWeatherMap\n",
        "api_key = \"\"\n",
        "\n",
        "#base url = \"http://api.openweathermap.org/data/2.5/weather?\"\n",
        "\n",
        "#returns a dictionary-like object with list value\n",
        "initial_dic=defaultdict(list)"
      ],
      "execution_count": 6,
      "outputs": []
    },
    {
      "cell_type": "code",
      "metadata": {
        "id": "DBScIc5wzgOX"
      },
      "source": [
        "#get the weather data\n",
        "\n",
        "#use the values from one column as parameters to make requests to API \n",
        "for i in city_name:\n",
        "  #complete_url variable to store address \n",
        "  complete_url = 'http://api.openweathermap.org/data/2.5/weather?appid=X&q={}&units=imperial'.format(i)\n",
        "\n",
        "  #get method of requests module, return response object\n",
        "  response = requests.get(complete_url)\n",
        "  # print(response)\n",
        "\n",
        "  #json method of response object\n",
        "  #convert json format data into python format data\n",
        "  x = response.json()\n",
        "\n",
        "  #Store the (at least) 5 pieces of data returned from the API in another df (DF2). \n",
        "  if x[\"cod\"] != \"404\": \n",
        "\n",
        "    #main is the object\n",
        "    y = x[\"main\"] \n",
        "\n",
        "    #store the current temperature (degrees Fahrenheit)\n",
        "    current_temperature = y[\"temp\"]\n",
        "\n",
        "    #store the min temp (degrees Fahrenheit)\n",
        "    temp_min = y['temp_min']\n",
        "\n",
        "    #store the max temp (degrees Fahrenheit)\n",
        "    temp_max = y['temp_max']\n",
        "\n",
        "    #store the current pressure \n",
        "    current_pressure=y[\"pressure\"]\n",
        "\n",
        "    #store the current humidity\n",
        "    current_humidity=y[\"humidity\"]\n",
        "\n",
        "    #visibility is the object - value in meters\n",
        "    visibility = x[\"visibility\"] \n",
        "\n",
        "    #wind is the object - mph\n",
        "    z = x[\"wind\"] \n",
        "\n",
        "    #store the wind in mph\n",
        "    speed = z[\"speed\"]\n",
        "\n",
        "    # Appending data to initial_dic\n",
        "    initial_dic['City_name'].append(i)\n",
        "\n",
        "    # append data from OpenWeatherMap API \n",
        "    initial_dic['Current_temperature'].append(current_temperature)\n",
        "    initial_dic['Min_temperature'].append(temp_min)\n",
        "    initial_dic['Max_temperature'].append(temp_max)\n",
        "    initial_dic['Pressure_hPa_unit'].append(current_pressure)\n",
        "    initial_dic['Humidity_percentage'].append(current_humidity)\n",
        "    initial_dic['Visibility_meters'].append(visibility)\n",
        "    initial_dic['Wind_speed_mph'].append(speed)\n",
        " \n",
        "  else:\n",
        "    print(\"These cities were not found: \")\n",
        "    print(i)"
      ],
      "execution_count": 7,
      "outputs": []
    },
    {
      "cell_type": "code",
      "metadata": {
        "id": "5LMIcE4LxoUu",
        "colab": {
          "base_uri": "https://localhost:8080/",
          "height": 203
        },
        "outputId": "8ac4ad8a-2a3b-42c5-8785-998e0bad89f1"
      },
      "source": [
        "# Converting to DataFrame\n",
        "DF2 = pd.DataFrame(initial_dic)\n",
        "\n",
        "# temperature is in degrees Fahrenheit \n",
        "\n",
        "# Print DF2, which contains the weather data for each city\n",
        "DF2.head()"
      ],
      "execution_count": 18,
      "outputs": [
        {
          "output_type": "execute_result",
          "data": {
            "text/html": [
              "<div>\n",
              "<style scoped>\n",
              "    .dataframe tbody tr th:only-of-type {\n",
              "        vertical-align: middle;\n",
              "    }\n",
              "\n",
              "    .dataframe tbody tr th {\n",
              "        vertical-align: top;\n",
              "    }\n",
              "\n",
              "    .dataframe thead th {\n",
              "        text-align: right;\n",
              "    }\n",
              "</style>\n",
              "<table border=\"1\" class=\"dataframe\">\n",
              "  <thead>\n",
              "    <tr style=\"text-align: right;\">\n",
              "      <th></th>\n",
              "      <th>City_name</th>\n",
              "      <th>Current_temperature</th>\n",
              "      <th>Min_temperature</th>\n",
              "      <th>Max_temperature</th>\n",
              "      <th>Pressure_hPa_unit</th>\n",
              "      <th>Humidity_percentage</th>\n",
              "      <th>Visibility_meters</th>\n",
              "      <th>Wind_speed_mph</th>\n",
              "    </tr>\n",
              "  </thead>\n",
              "  <tbody>\n",
              "    <tr>\n",
              "      <th>0</th>\n",
              "      <td>New York City</td>\n",
              "      <td>84.85</td>\n",
              "      <td>78.94</td>\n",
              "      <td>89.85</td>\n",
              "      <td>1013</td>\n",
              "      <td>53</td>\n",
              "      <td>10000</td>\n",
              "      <td>1.01</td>\n",
              "    </tr>\n",
              "    <tr>\n",
              "      <th>1</th>\n",
              "      <td>Los Angeles</td>\n",
              "      <td>63.66</td>\n",
              "      <td>57.96</td>\n",
              "      <td>76.06</td>\n",
              "      <td>1016</td>\n",
              "      <td>75</td>\n",
              "      <td>10000</td>\n",
              "      <td>3.00</td>\n",
              "    </tr>\n",
              "    <tr>\n",
              "      <th>2</th>\n",
              "      <td>Chicago</td>\n",
              "      <td>83.91</td>\n",
              "      <td>81.77</td>\n",
              "      <td>85.41</td>\n",
              "      <td>1012</td>\n",
              "      <td>47</td>\n",
              "      <td>10000</td>\n",
              "      <td>1.99</td>\n",
              "    </tr>\n",
              "    <tr>\n",
              "      <th>3</th>\n",
              "      <td>Houston</td>\n",
              "      <td>81.97</td>\n",
              "      <td>77.65</td>\n",
              "      <td>85.39</td>\n",
              "      <td>1012</td>\n",
              "      <td>73</td>\n",
              "      <td>10000</td>\n",
              "      <td>1.01</td>\n",
              "    </tr>\n",
              "    <tr>\n",
              "      <th>4</th>\n",
              "      <td>Phoenix</td>\n",
              "      <td>91.81</td>\n",
              "      <td>88.14</td>\n",
              "      <td>95.70</td>\n",
              "      <td>1010</td>\n",
              "      <td>14</td>\n",
              "      <td>10000</td>\n",
              "      <td>3.00</td>\n",
              "    </tr>\n",
              "  </tbody>\n",
              "</table>\n",
              "</div>"
            ],
            "text/plain": [
              "       City_name  Current_temperature  ...  Visibility_meters  Wind_speed_mph\n",
              "0  New York City                84.85  ...              10000            1.01\n",
              "1    Los Angeles                63.66  ...              10000            3.00\n",
              "2        Chicago                83.91  ...              10000            1.99\n",
              "3        Houston                81.97  ...              10000            1.01\n",
              "4        Phoenix                91.81  ...              10000            3.00\n",
              "\n",
              "[5 rows x 8 columns]"
            ]
          },
          "metadata": {
            "tags": []
          },
          "execution_count": 18
        }
      ]
    },
    {
      "cell_type": "code",
      "metadata": {
        "colab": {
          "base_uri": "https://localhost:8080/",
          "height": 257
        },
        "id": "Yy-muad73I-c",
        "outputId": "bdbf3e3f-7078-40a6-ea9b-ced4ee369dc4"
      },
      "source": [
        "# Merge the two data frames horizontally (side by side) into a third data frame.\n",
        "# DF3 is the result data frame\n",
        "DF3 = pd.merge(DF1, DF2, how='left', on=['City_name'])\n",
        "\n",
        "# temperature is in degrees Fahrenheit \n",
        "\n",
        "# Print DF3, which is the result of merging DF1 and DF2\n",
        "DF3.head()"
      ],
      "execution_count": 19,
      "outputs": [
        {
          "output_type": "execute_result",
          "data": {
            "text/html": [
              "<div>\n",
              "<style scoped>\n",
              "    .dataframe tbody tr th:only-of-type {\n",
              "        vertical-align: middle;\n",
              "    }\n",
              "\n",
              "    .dataframe tbody tr th {\n",
              "        vertical-align: top;\n",
              "    }\n",
              "\n",
              "    .dataframe thead th {\n",
              "        text-align: right;\n",
              "    }\n",
              "</style>\n",
              "<table border=\"1\" class=\"dataframe\">\n",
              "  <thead>\n",
              "    <tr style=\"text-align: right;\">\n",
              "      <th></th>\n",
              "      <th>Rank</th>\n",
              "      <th>City_name</th>\n",
              "      <th>2019_Population</th>\n",
              "      <th>2016_Land_Area_sq_mi</th>\n",
              "      <th>Latitude</th>\n",
              "      <th>Longitude</th>\n",
              "      <th>Current_temperature</th>\n",
              "      <th>Min_temperature</th>\n",
              "      <th>Max_temperature</th>\n",
              "      <th>Pressure_hPa_unit</th>\n",
              "      <th>Humidity_percentage</th>\n",
              "      <th>Visibility_meters</th>\n",
              "      <th>Wind_speed_mph</th>\n",
              "    </tr>\n",
              "  </thead>\n",
              "  <tbody>\n",
              "    <tr>\n",
              "      <th>0</th>\n",
              "      <td>1</td>\n",
              "      <td>New York City</td>\n",
              "      <td>8253213</td>\n",
              "      <td>301.5</td>\n",
              "      <td>40.66</td>\n",
              "      <td>-73.93</td>\n",
              "      <td>84.85</td>\n",
              "      <td>78.94</td>\n",
              "      <td>89.85</td>\n",
              "      <td>1013</td>\n",
              "      <td>53</td>\n",
              "      <td>10000</td>\n",
              "      <td>1.01</td>\n",
              "    </tr>\n",
              "    <tr>\n",
              "      <th>1</th>\n",
              "      <td>2</td>\n",
              "      <td>Los Angeles</td>\n",
              "      <td>3970219</td>\n",
              "      <td>468.7</td>\n",
              "      <td>34.01</td>\n",
              "      <td>-118.41</td>\n",
              "      <td>63.66</td>\n",
              "      <td>57.96</td>\n",
              "      <td>76.06</td>\n",
              "      <td>1016</td>\n",
              "      <td>75</td>\n",
              "      <td>10000</td>\n",
              "      <td>3.00</td>\n",
              "    </tr>\n",
              "    <tr>\n",
              "      <th>2</th>\n",
              "      <td>3</td>\n",
              "      <td>Chicago</td>\n",
              "      <td>2677643</td>\n",
              "      <td>227.3</td>\n",
              "      <td>41.83</td>\n",
              "      <td>-87.68</td>\n",
              "      <td>83.91</td>\n",
              "      <td>81.77</td>\n",
              "      <td>85.41</td>\n",
              "      <td>1012</td>\n",
              "      <td>47</td>\n",
              "      <td>10000</td>\n",
              "      <td>1.99</td>\n",
              "    </tr>\n",
              "    <tr>\n",
              "      <th>3</th>\n",
              "      <td>4</td>\n",
              "      <td>Houston</td>\n",
              "      <td>2316120</td>\n",
              "      <td>637.5</td>\n",
              "      <td>29.78</td>\n",
              "      <td>-95.39</td>\n",
              "      <td>81.97</td>\n",
              "      <td>77.65</td>\n",
              "      <td>85.39</td>\n",
              "      <td>1012</td>\n",
              "      <td>73</td>\n",
              "      <td>10000</td>\n",
              "      <td>1.01</td>\n",
              "    </tr>\n",
              "    <tr>\n",
              "      <th>4</th>\n",
              "      <td>5</td>\n",
              "      <td>Phoenix</td>\n",
              "      <td>1708127</td>\n",
              "      <td>517.6</td>\n",
              "      <td>33.57</td>\n",
              "      <td>-112.09</td>\n",
              "      <td>91.81</td>\n",
              "      <td>88.14</td>\n",
              "      <td>95.70</td>\n",
              "      <td>1010</td>\n",
              "      <td>14</td>\n",
              "      <td>10000</td>\n",
              "      <td>3.00</td>\n",
              "    </tr>\n",
              "  </tbody>\n",
              "</table>\n",
              "</div>"
            ],
            "text/plain": [
              "  Rank      City_name  ... Visibility_meters Wind_speed_mph\n",
              "0    1  New York City  ...             10000           1.01\n",
              "1    2    Los Angeles  ...             10000           3.00\n",
              "2    3        Chicago  ...             10000           1.99\n",
              "3    4        Houston  ...             10000           1.01\n",
              "4    5        Phoenix  ...             10000           3.00\n",
              "\n",
              "[5 rows x 13 columns]"
            ]
          },
          "metadata": {
            "tags": []
          },
          "execution_count": 19
        }
      ]
    },
    {
      "cell_type": "code",
      "metadata": {
        "id": "uXCycQYr2inF",
        "colab": {
          "base_uri": "https://localhost:8080/",
          "height": 296
        },
        "outputId": "e1b18cc8-a3dc-4457-c67d-0bf730ba3e40"
      },
      "source": [
        "# Print the statistics for the data frame\n",
        "DF3.describe()"
      ],
      "execution_count": 10,
      "outputs": [
        {
          "output_type": "execute_result",
          "data": {
            "text/html": [
              "<div>\n",
              "<style scoped>\n",
              "    .dataframe tbody tr th:only-of-type {\n",
              "        vertical-align: middle;\n",
              "    }\n",
              "\n",
              "    .dataframe tbody tr th {\n",
              "        vertical-align: top;\n",
              "    }\n",
              "\n",
              "    .dataframe thead th {\n",
              "        text-align: right;\n",
              "    }\n",
              "</style>\n",
              "<table border=\"1\" class=\"dataframe\">\n",
              "  <thead>\n",
              "    <tr style=\"text-align: right;\">\n",
              "      <th></th>\n",
              "      <th>Latitude</th>\n",
              "      <th>Longitude</th>\n",
              "      <th>Current_temperature</th>\n",
              "      <th>Min_temperature</th>\n",
              "      <th>Max_temperature</th>\n",
              "      <th>Pressure_hPa_unit</th>\n",
              "      <th>Humidity_percentage</th>\n",
              "      <th>Visibility_meters</th>\n",
              "      <th>Wind_speed_mph</th>\n",
              "    </tr>\n",
              "  </thead>\n",
              "  <tbody>\n",
              "    <tr>\n",
              "      <th>count</th>\n",
              "      <td>35.000000</td>\n",
              "      <td>35.000000</td>\n",
              "      <td>35.000000</td>\n",
              "      <td>35.000000</td>\n",
              "      <td>35.000000</td>\n",
              "      <td>35.000000</td>\n",
              "      <td>35.000000</td>\n",
              "      <td>35.0</td>\n",
              "      <td>35.000000</td>\n",
              "    </tr>\n",
              "    <tr>\n",
              "      <th>mean</th>\n",
              "      <td>36.787143</td>\n",
              "      <td>-97.792857</td>\n",
              "      <td>78.307429</td>\n",
              "      <td>74.010571</td>\n",
              "      <td>82.736571</td>\n",
              "      <td>1012.914286</td>\n",
              "      <td>55.171429</td>\n",
              "      <td>10000.0</td>\n",
              "      <td>3.650286</td>\n",
              "    </tr>\n",
              "    <tr>\n",
              "      <th>std</th>\n",
              "      <td>4.563497</td>\n",
              "      <td>16.387779</td>\n",
              "      <td>10.211622</td>\n",
              "      <td>11.106659</td>\n",
              "      <td>9.211509</td>\n",
              "      <td>3.958397</td>\n",
              "      <td>21.170854</td>\n",
              "      <td>0.0</td>\n",
              "      <td>2.706043</td>\n",
              "    </tr>\n",
              "    <tr>\n",
              "      <th>min</th>\n",
              "      <td>29.470000</td>\n",
              "      <td>-123.030000</td>\n",
              "      <td>55.720000</td>\n",
              "      <td>50.360000</td>\n",
              "      <td>58.480000</td>\n",
              "      <td>1002.000000</td>\n",
              "      <td>11.000000</td>\n",
              "      <td>10000.0</td>\n",
              "      <td>0.000000</td>\n",
              "    </tr>\n",
              "    <tr>\n",
              "      <th>25%</th>\n",
              "      <td>33.105000</td>\n",
              "      <td>-111.900000</td>\n",
              "      <td>75.390000</td>\n",
              "      <td>70.735000</td>\n",
              "      <td>78.845000</td>\n",
              "      <td>1011.000000</td>\n",
              "      <td>47.500000</td>\n",
              "      <td>10000.0</td>\n",
              "      <td>1.010000</td>\n",
              "    </tr>\n",
              "    <tr>\n",
              "      <th>50%</th>\n",
              "      <td>36.220000</td>\n",
              "      <td>-97.340000</td>\n",
              "      <td>81.880000</td>\n",
              "      <td>77.650000</td>\n",
              "      <td>85.210000</td>\n",
              "      <td>1013.000000</td>\n",
              "      <td>55.000000</td>\n",
              "      <td>10000.0</td>\n",
              "      <td>3.000000</td>\n",
              "    </tr>\n",
              "    <tr>\n",
              "      <th>75%</th>\n",
              "      <td>39.875000</td>\n",
              "      <td>-84.370000</td>\n",
              "      <td>84.625000</td>\n",
              "      <td>81.165000</td>\n",
              "      <td>88.195000</td>\n",
              "      <td>1016.000000</td>\n",
              "      <td>73.000000</td>\n",
              "      <td>10000.0</td>\n",
              "      <td>5.990000</td>\n",
              "    </tr>\n",
              "    <tr>\n",
              "      <th>max</th>\n",
              "      <td>47.620000</td>\n",
              "      <td>-71.020000</td>\n",
              "      <td>91.810000</td>\n",
              "      <td>88.480000</td>\n",
              "      <td>95.810000</td>\n",
              "      <td>1018.000000</td>\n",
              "      <td>85.000000</td>\n",
              "      <td>10000.0</td>\n",
              "      <td>9.980000</td>\n",
              "    </tr>\n",
              "  </tbody>\n",
              "</table>\n",
              "</div>"
            ],
            "text/plain": [
              "        Latitude   Longitude  ...  Visibility_meters  Wind_speed_mph\n",
              "count  35.000000   35.000000  ...               35.0       35.000000\n",
              "mean   36.787143  -97.792857  ...            10000.0        3.650286\n",
              "std     4.563497   16.387779  ...                0.0        2.706043\n",
              "min    29.470000 -123.030000  ...            10000.0        0.000000\n",
              "25%    33.105000 -111.900000  ...            10000.0        1.010000\n",
              "50%    36.220000  -97.340000  ...            10000.0        3.000000\n",
              "75%    39.875000  -84.370000  ...            10000.0        5.990000\n",
              "max    47.620000  -71.020000  ...            10000.0        9.980000\n",
              "\n",
              "[8 rows x 9 columns]"
            ]
          },
          "metadata": {
            "tags": []
          },
          "execution_count": 10
        }
      ]
    },
    {
      "cell_type": "code",
      "metadata": {
        "id": "NmHBQilsdLWr",
        "colab": {
          "base_uri": "https://localhost:8080/",
          "height": 295
        },
        "outputId": "16cad6f9-cba7-4420-9438-07f356b7789b"
      },
      "source": [
        "# Fun facts: \n",
        "# Latitude has a big effect on climate because latitude controls how much solar energy a location receives.\n",
        "# There is a relationship between latitude and temperature around the world, as temperatures are typically warmer approaching the Equator and cooler approaching the Poles.\n",
        "\n",
        "# Create Scatter Plot \n",
        "plt.scatter(DF3[\"Latitude\"], DF3[\"Current_temperature\"], facecolors=\"blue\", marker=\"o\", edgecolor=\"black\")\n",
        "\n",
        "# Graph Properties\n",
        "plt.title(\"City Latitude vs. Current Temperature\")\n",
        "plt.ylabel(\"Current Temperature (°F)\")\n",
        "plt.xlabel(\"Latitude\")\n",
        "plt.grid(True)\n",
        "\n",
        "# Show Plot\n",
        "plt.show()"
      ],
      "execution_count": 11,
      "outputs": [
        {
          "output_type": "display_data",
          "data": {
            "image/png": "[encoded data removed]",
            "text/plain": [
              "<Figure size 432x288 with 1 Axes>"
            ]
          },
          "metadata": {
            "tags": [],
            "needs_background": "light"
          }
        }
      ]
    },
    {
      "cell_type": "code",
      "metadata": {
        "id": "EXig8pm2sGs4",
        "colab": {
          "base_uri": "https://localhost:8080/",
          "height": 295
        },
        "outputId": "006cd5c6-68a6-4b30-c3b1-0ce54cca30b9"
      },
      "source": [
        "# Create Scatter Plot \n",
        "plt.scatter(DF3[\"Latitude\"], DF3[\"Pressure_hPa_unit\"], facecolors=\"red\", marker=\"o\", edgecolor=\"black\")\n",
        "\n",
        "# Graph Properties\n",
        "plt.title(\"City Latitude vs. Pressure\")\n",
        "plt.ylabel(\"Pressure (hPa unit)\")\n",
        "plt.xlabel(\"Latitude\")\n",
        "plt.grid(True)\n",
        "\n",
        "# Show Plot\n",
        "plt.show()"
      ],
      "execution_count": 12,
      "outputs": [
        {
          "output_type": "display_data",
          "data": {
            "image/png": "[encoded data removed]",
            "text/plain": [
              "<Figure size 432x288 with 1 Axes>"
            ]
          },
          "metadata": {
            "tags": [],
            "needs_background": "light"
          }
        }
      ]
    },
    {
      "cell_type": "code",
      "metadata": {
        "id": "wTLYMLWzs6on",
        "colab": {
          "base_uri": "https://localhost:8080/",
          "height": 295
        },
        "outputId": "6d672724-fc0a-4ad4-b448-746d0f598a77"
      },
      "source": [
        "# Create Scatter Plot \n",
        "plt.scatter(DF3[\"Latitude\"], DF3[\"Humidity_percentage\"], facecolors=\"green\", marker=\"o\", edgecolor=\"black\")\n",
        "\n",
        "# Graph Properties\n",
        "plt.title(\"City Latitude vs. Humidity\")\n",
        "plt.ylabel(\"Humidity (%)\")\n",
        "plt.xlabel(\"Latitude\")\n",
        "plt.grid(True)\n",
        "\n",
        "# Show Plot\n",
        "plt.show()"
      ],
      "execution_count": 13,
      "outputs": [
        {
          "output_type": "display_data",
          "data": {
            "image/png": "[encoded data removed]",
            "text/plain": [
              "<Figure size 432x288 with 1 Axes>"
            ]
          },
          "metadata": {
            "tags": [],
            "needs_background": "light"
          }
        }
      ]
    },
    {
      "cell_type": "code",
      "metadata": {
        "id": "NNclNto1tH6v",
        "colab": {
          "base_uri": "https://localhost:8080/",
          "height": 295
        },
        "outputId": "795380bc-113f-4f0c-a41e-1401c0106f8c"
      },
      "source": [
        "# Create Scatter Plot \n",
        "plt.scatter(DF3[\"Latitude\"], DF3[\"Visibility_meters\"], facecolors=\"purple\", marker=\"o\", edgecolor=\"black\")\n",
        "\n",
        "# Graph Properties\n",
        "plt.title(\"City Latitude vs. Visibility\")\n",
        "plt.ylabel(\"Visibility (meters)\")\n",
        "plt.xlabel(\"Latitude\")\n",
        "plt.grid(True)\n",
        "\n",
        "# Show Plot\n",
        "plt.show()"
      ],
      "execution_count": 14,
      "outputs": [
        {
          "output_type": "display_data",
          "data": {
            "image/png": "[encoded data removed]",
            "text/plain": [
              "<Figure size 432x288 with 1 Axes>"
            ]
          },
          "metadata": {
            "tags": [],
            "needs_background": "light"
          }
        }
      ]
    },
    {
      "cell_type": "code",
      "metadata": {
        "id": "FAflfW7EtImh",
        "colab": {
          "base_uri": "https://localhost:8080/",
          "height": 295
        },
        "outputId": "c1f51c8e-17b2-46bb-911d-266ca3f25236"
      },
      "source": [
        "# Create Scatter Plot \n",
        "plt.scatter(DF3[\"Latitude\"], DF3[\"Wind_speed_mph\"], facecolors=\"yellow\", marker=\"o\", edgecolor=\"black\")\n",
        "\n",
        "# Graph Properties\n",
        "plt.title(\"City Latitude vs. Wind Speed\")\n",
        "plt.ylabel(\"Wind Speed (mph)\")\n",
        "plt.xlabel(\"Latitude\")\n",
        "plt.grid(True)\n",
        "\n",
        "# Show Plot\n",
        "plt.show()"
      ],
      "execution_count": 15,
      "outputs": [
        {
          "output_type": "display_data",
          "data": {
            "image/png": "[encoded data removed]",
            "text/plain": [
              "<Figure size 432x288 with 1 Axes>"
            ]
          },
          "metadata": {
            "tags": [],
            "needs_background": "light"
          }
        }
      ]
    },
    {
      "cell_type": "code",
      "metadata": {
        "id": "FMHQuegiCX-N"
      },
      "source": [
        "# Export the final data frame (DF3) to a csv file\n",
        "DF3.to_csv('US Cities and their Weather Data.csv')"
      ],
      "execution_count": 16,
      "outputs": []
    },
    {
      "cell_type": "code",
      "metadata": {
        "id": "m_FhkU7SS-gn",
        "colab": {
          "base_uri": "https://localhost:8080/",
          "height": 17
        },
        "outputId": "821da67f-0973-4844-af40-e406f35b4b51"
      },
      "source": [
        "# Download the csv file to computer for convenience\n",
        "from google.colab import files\n",
        "files.download('US Cities and their Weather Data.csv')"
      ],
      "execution_count": 17,
      "outputs": [
        {
          "output_type": "display_data",
          "data": {
            "application/javascript": [
              "\n",
              "    async function download(id, filename, size) {\n",
              "      if (!google.colab.kernel.accessAllowed) {\n",
              "        return;\n",
              "      }\n",
              "      const div = document.createElement('div');\n",
              "      const label = document.createElement('label');\n",
              "      label.textContent = `Downloading \"${filename}\": `;\n",
              "      div.appendChild(label);\n",
              "      const progress = document.createElement('progress');\n",
              "      progress.max = size;\n",
              "      div.appendChild(progress);\n",
              "      document.body.appendChild(div);\n",
              "\n",
              "      const buffers = [];\n",
              "      let downloaded = 0;\n",
              "\n",
              "      const channel = await google.colab.kernel.comms.open(id);\n",
              "      // Send a message to notify the kernel that we're ready.\n",
              "      channel.send({})\n",
              "\n",
              "      for await (const message of channel.messages) {\n",
              "        // Send a message to notify the kernel that we're ready.\n",
              "        channel.send({})\n",
              "        if (message.buffers) {\n",
              "          for (const buffer of message.buffers) {\n",
              "            buffers.push(buffer);\n",
              "            downloaded += buffer.byteLength;\n",
              "            progress.value = downloaded;\n",
              "          }\n",
              "        }\n",
              "      }\n",
              "      const blob = new Blob(buffers, {type: 'application/binary'});\n",
              "      const a = document.createElement('a');\n",
              "      a.href = window.URL.createObjectURL(blob);\n",
              "      a.download = filename;\n",
              "      div.appendChild(a);\n",
              "      a.click();\n",
              "      div.remove();\n",
              "    }\n",
              "  "
            ],
            "text/plain": [
              "<IPython.core.display.Javascript object>"
            ]
          },
          "metadata": {
            "tags": []
          }
        },
        {
          "output_type": "display_data",
          "data": {
            "application/javascript": [
              "download(\"download_ac6e57b7-23da-4f1d-8db6-ba70e0283d46\", \"US Cities and their Weather Data.csv\", 2990)"
            ],
            "text/plain": [
              "<IPython.core.display.Javascript object>"
            ]
          },
          "metadata": {
            "tags": []
          }
        }
      ]
    }
  ]
}
